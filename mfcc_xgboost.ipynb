{
 "cells": [
  {
   "cell_type": "markdown",
   "metadata": {},
   "source": [
    "import librosa\n",
    "import torchaudio\n",
    "import numpy as np\n",
    "from glob import glob\n",
    "from tqdm import tqdm\n",
    "\n",
    "\n",
    "def extract_feature(audio_file, n_mfcc=13, resample=False):\n",
    "\n",
    "  '''\n",
    "  Function to extract features from a single audio file given its path\n",
    "  Modify this function to extract your own custom features\n",
    "  '''\n",
    "\n",
    "  audio,fs = torchaudio.load(audio_file)\n",
    "  audio = audio.numpy().reshape(-1)\n",
    "\n",
    "  if resample:\n",
    "    audio = librosa.resample(audio, orig_sr=44100, target_sr=16000)\n",
    "\n",
    "  # replace the following features with your own\n",
    "  mfccs = librosa.feature.mfcc(y=audio, sr=fs, n_mfcc=n_mfcc)\n",
    "  feat_out = np.mean(mfccs,axis=1)\n",
    "\n",
    "  return feat_out\n",
    "\n",
    "\n",
    "def get_label(file_name):\n",
    "  '''\n",
    "  Function to retrieve output labels from filenames\n",
    "  '''\n",
    "  if 'ROC' in file_name:\n",
    "    label=0\n",
    "  elif 'LES' in file_name:\n",
    "    label=1\n",
    "  elif 'DC' in file_name:\n",
    "    label=2\n",
    "  elif 'PRV' in file_name:\n",
    "    label=3\n",
    "  elif 'VLD' in file_name:\n",
    "    label=4\n",
    "  else:\n",
    "    raise ValueError('invalid file name')\n",
    "  return label"
   ]
  }
 ],
 "metadata": {
  "language_info": {
   "name": "python"
  }
 },
 "nbformat": 4,
 "nbformat_minor": 2
}
