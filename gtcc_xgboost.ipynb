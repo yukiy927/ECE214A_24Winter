{
 "cells": [
  {
   "cell_type": "code",
   "execution_count": 2,
   "metadata": {},
   "outputs": [
    {
     "name": "stdout",
     "output_type": "stream",
     "text": [
      "Requirement already satisfied: librosa in d:\\anaconda3\\lib\\site-packages (0.10.1)\n",
      "Requirement already satisfied: pooch>=1.0 in d:\\anaconda3\\lib\\site-packages (from librosa) (1.8.1)\n",
      "Requirement already satisfied: soxr>=0.3.2 in d:\\anaconda3\\lib\\site-packages (from librosa) (0.3.7)\n",
      "Requirement already satisfied: msgpack>=1.0 in d:\\anaconda3\\lib\\site-packages (from librosa) (1.0.3)\n",
      "Requirement already satisfied: scikit-learn>=0.20.0 in d:\\anaconda3\\lib\\site-packages (from librosa) (1.0.2)\n",
      "Requirement already satisfied: decorator>=4.3.0 in d:\\anaconda3\\lib\\site-packages (from librosa) (5.1.1)\n",
      "Requirement already satisfied: typing-extensions>=4.1.1 in d:\\anaconda3\\lib\\site-packages (from librosa) (4.10.0)\n",
      "Requirement already satisfied: lazy-loader>=0.1 in d:\\anaconda3\\lib\\site-packages (from librosa) (0.3)\n",
      "Requirement already satisfied: scipy>=1.2.0 in d:\\anaconda3\\lib\\site-packages (from librosa) (1.9.1)\n",
      "Requirement already satisfied: numpy!=1.22.0,!=1.22.1,!=1.22.2,>=1.20.3 in d:\\anaconda3\\lib\\site-packages (from librosa) (1.21.5)\n",
      "Requirement already satisfied: numba>=0.51.0 in d:\\anaconda3\\lib\\site-packages (from librosa) (0.55.1)\n",
      "Requirement already satisfied: audioread>=2.1.9 in d:\\anaconda3\\lib\\site-packages (from librosa) (3.0.1)\n",
      "Requirement already satisfied: soundfile>=0.12.1 in d:\\anaconda3\\lib\\site-packages (from librosa) (0.12.1)\n",
      "Requirement already satisfied: joblib>=0.14 in d:\\anaconda3\\lib\\site-packages (from librosa) (1.1.0)\n",
      "Requirement already satisfied: llvmlite<0.39,>=0.38.0rc1 in d:\\anaconda3\\lib\\site-packages (from numba>=0.51.0->librosa) (0.38.0)\n",
      "Requirement already satisfied: setuptools in d:\\anaconda3\\lib\\site-packages (from numba>=0.51.0->librosa) (63.4.1)\n",
      "Requirement already satisfied: packaging>=20.0 in d:\\anaconda3\\lib\\site-packages (from pooch>=1.0->librosa) (21.3)\n",
      "Requirement already satisfied: requests>=2.19.0 in d:\\anaconda3\\lib\\site-packages (from pooch>=1.0->librosa) (2.28.1)\n",
      "Requirement already satisfied: platformdirs>=2.5.0 in d:\\anaconda3\\lib\\site-packages (from pooch>=1.0->librosa) (2.5.2)\n",
      "Requirement already satisfied: threadpoolctl>=2.0.0 in d:\\anaconda3\\lib\\site-packages (from scikit-learn>=0.20.0->librosa) (2.2.0)\n",
      "Requirement already satisfied: cffi>=1.0 in d:\\anaconda3\\lib\\site-packages (from soundfile>=0.12.1->librosa) (1.15.1)\n",
      "Requirement already satisfied: pycparser in d:\\anaconda3\\lib\\site-packages (from cffi>=1.0->soundfile>=0.12.1->librosa) (2.21)\n",
      "Requirement already satisfied: pyparsing!=3.0.5,>=2.0.2 in d:\\anaconda3\\lib\\site-packages (from packaging>=20.0->pooch>=1.0->librosa) (3.0.9)\n",
      "Requirement already satisfied: urllib3<1.27,>=1.21.1 in d:\\anaconda3\\lib\\site-packages (from requests>=2.19.0->pooch>=1.0->librosa) (1.26.11)\n",
      "Requirement already satisfied: certifi>=2017.4.17 in d:\\anaconda3\\lib\\site-packages (from requests>=2.19.0->pooch>=1.0->librosa) (2022.9.14)\n",
      "Requirement already satisfied: idna<4,>=2.5 in d:\\anaconda3\\lib\\site-packages (from requests>=2.19.0->pooch>=1.0->librosa) (3.3)\n",
      "Requirement already satisfied: charset-normalizer<3,>=2 in d:\\anaconda3\\lib\\site-packages (from requests>=2.19.0->pooch>=1.0->librosa) (2.0.4)\n",
      "Note: you may need to restart the kernel to use updated packages.\n"
     ]
    }
   ],
   "source": [
    "%pip install librosa"
   ]
  },
  {
   "cell_type": "code",
   "execution_count": 3,
   "metadata": {},
   "outputs": [
    {
     "name": "stdout",
     "output_type": "stream",
     "text": [
      "Requirement already satisfied: torchaudio in d:\\anaconda3\\lib\\site-packages (2.2.1)\n",
      "Requirement already satisfied: torch==2.2.1 in d:\\anaconda3\\lib\\site-packages (from torchaudio) (2.2.1)\n",
      "Requirement already satisfied: filelock in d:\\anaconda3\\lib\\site-packages (from torch==2.2.1->torchaudio) (3.6.0)\n",
      "Requirement already satisfied: jinja2 in d:\\anaconda3\\lib\\site-packages (from torch==2.2.1->torchaudio) (2.11.3)\n",
      "Requirement already satisfied: typing-extensions>=4.8.0 in d:\\anaconda3\\lib\\site-packages (from torch==2.2.1->torchaudio) (4.10.0)\n",
      "Requirement already satisfied: sympy in d:\\anaconda3\\lib\\site-packages (from torch==2.2.1->torchaudio) (1.10.1)\n",
      "Requirement already satisfied: networkx in d:\\anaconda3\\lib\\site-packages (from torch==2.2.1->torchaudio) (2.8.4)\n",
      "Requirement already satisfied: fsspec in d:\\anaconda3\\lib\\site-packages (from torch==2.2.1->torchaudio) (2022.7.1)\n",
      "Requirement already satisfied: MarkupSafe>=0.23 in d:\\anaconda3\\lib\\site-packages (from jinja2->torch==2.2.1->torchaudio) (2.0.1)\n",
      "Requirement already satisfied: mpmath>=0.19 in d:\\anaconda3\\lib\\site-packages (from sympy->torch==2.2.1->torchaudio) (1.2.1)\n",
      "Note: you may need to restart the kernel to use updated packages.\n"
     ]
    }
   ],
   "source": [
    "%pip install torchaudio"
   ]
  },
  {
   "cell_type": "code",
   "execution_count": 4,
   "metadata": {},
   "outputs": [
    {
     "name": "stdout",
     "output_type": "stream",
     "text": [
      "Requirement already satisfied: spafe in d:\\anaconda3\\lib\\site-packages (0.3.2)\n",
      "Requirement already satisfied: scipy>=1.7.3 in d:\\anaconda3\\lib\\site-packages (from spafe) (1.9.1)\n",
      "Requirement already satisfied: numpy>=1.21 in d:\\anaconda3\\lib\\site-packages (from spafe) (1.21.5)\n",
      "Requirement already satisfied: typing-extensions in d:\\anaconda3\\lib\\site-packages (from spafe) (4.10.0)\n",
      "Note: you may need to restart the kernel to use updated packages.\n"
     ]
    }
   ],
   "source": [
    "%pip install spafe"
   ]
  },
  {
   "cell_type": "code",
   "execution_count": 3,
   "metadata": {},
   "outputs": [],
   "source": [
    "import librosa\n",
    "import torchaudio\n",
    "import numpy as np\n",
    "from glob import glob\n",
    "from tqdm import tqdm\n",
    "from spafe.features.gfcc import gfcc\n",
    "\n",
    "def extract_feature(audio_file, n_gfcc=13, resample=False):\n",
    "    '''\n",
    "    Function to extract GFCC features from a single audio file given its path.\n",
    "    '''\n",
    "    \n",
    "    audio, fs = torchaudio.load(audio_file)\n",
    "    audio = audio.numpy().reshape(-1)\n",
    "\n",
    "    if resample:\n",
    "        # Note: resampling might be unnecessary for GFCC depending on your use-case\n",
    "        audio = librosa.resample(audio, orig_sr=fs, target_sr=16000)\n",
    "        fs = 16000  # Update the sampling rate\n",
    "\n",
    "    # Extract GFCC features\n",
    "    gfcc_features = gfcc(audio, fs=fs, num_ceps=n_gfcc)\n",
    "\n",
    "    # You may want to take the mean, just like with MFCCs, or stack them directly\n",
    "    feat_out = np.mean(gfcc_features, axis=0)\n",
    "\n",
    "    return feat_out\n"
   ]
  },
  {
   "cell_type": "code",
   "execution_count": 4,
   "metadata": {},
   "outputs": [],
   "source": [
    "def get_label(file_name):\n",
    "  '''\n",
    "  Function to retrieve output labels from filenames\n",
    "  '''\n",
    "  if 'ROC' in file_name:\n",
    "    label=0\n",
    "  elif 'LES' in file_name:\n",
    "    label=1\n",
    "  elif 'DC' in file_name:\n",
    "    label=2\n",
    "  elif 'PRV' in file_name:\n",
    "    label=3\n",
    "  elif 'VLD' in file_name:\n",
    "    label=4\n",
    "  else:\n",
    "    raise ValueError('invalid file name')\n",
    "  return label"
   ]
  },
  {
   "cell_type": "code",
   "execution_count": 1,
   "metadata": {},
   "outputs": [
    {
     "name": "stdout",
     "output_type": "stream",
     "text": [
      "Requirement already satisfied: numpy in d:\\anaconda3\\lib\\site-packages (1.21.5)\n",
      "Collecting numpy\n",
      "  Downloading numpy-1.26.4-cp39-cp39-win_amd64.whl (15.8 MB)\n",
      "     --------------------------------------- 15.8/15.8 MB 38.6 MB/s eta 0:00:00\n",
      "Requirement already satisfied: scipy in d:\\anaconda3\\lib\\site-packages (1.9.1)\n",
      "Collecting scipy\n",
      "  Downloading scipy-1.12.0-cp39-cp39-win_amd64.whl (46.2 MB)\n",
      "     --------------------------------------- 46.2/46.2 MB 26.2 MB/s eta 0:00:00\n",
      "Installing collected packages: numpy, scipy\n",
      "  Attempting uninstall: numpy\n",
      "    Found existing installation: numpy 1.21.5\n",
      "    Uninstalling numpy-1.21.5:\n",
      "      Successfully uninstalled numpy-1.21.5\n",
      "  Attempting uninstall: scipy\n",
      "    Found existing installation: scipy 1.9.1\n",
      "    Uninstalling scipy-1.9.1:\n",
      "      Successfully uninstalled scipy-1.9.1\n",
      "Successfully installed numpy-1.26.4 scipy-1.12.0\n",
      "Note: you may need to restart the kernel to use updated packages.\n"
     ]
    },
    {
     "name": "stderr",
     "output_type": "stream",
     "text": [
      "ERROR: pip's dependency resolver does not currently take into account all the packages that are installed. This behaviour is the source of the following dependency conflicts.\n",
      "daal4py 2021.6.0 requires daal==2021.4.0, which is not installed.\n",
      "torchvision 0.15.2 requires torch==2.0.1, but you have torch 2.2.1 which is incompatible.\n",
      "tensorboard 2.11.2 requires google-auth-oauthlib<0.5,>=0.4.1, but you have google-auth-oauthlib 1.0.0 which is incompatible.\n",
      "tensorboard 2.11.2 requires tensorboard-data-server<0.7.0,>=0.6.0, but you have tensorboard-data-server 0.7.0 which is incompatible.\n",
      "numba 0.55.1 requires numpy<1.22,>=1.18, but you have numpy 1.26.4 which is incompatible.\n"
     ]
    }
   ],
   "source": [
    "pip install --upgrade numpy scipy"
   ]
  },
  {
   "cell_type": "code",
   "execution_count": 5,
   "metadata": {},
   "outputs": [
    {
     "name": "stderr",
     "output_type": "stream",
     "text": [
      "100%|██████████| 4372/4372 [07:00<00:00, 10.40it/s]\n"
     ]
    }
   ],
   "source": [
    "#First we obtain the list of all files in the train_clean directory\n",
    "train_files = glob(r'D:\\file_yyux\\UCLA\\24W-courses\\214A\\W24 ECE M214A Project\\project_data\\train_clean\\*.wav')\n",
    "\n",
    "#Let's sort it so that we're all using the same file list order\n",
    "#and you can continue processing the features from a given file if it stops\n",
    "#partway through running\n",
    "train_files.sort()\n",
    "\n",
    "train_feat=[]\n",
    "train_label=[]\n",
    "\n",
    "for wav in tqdm(train_files):\n",
    "\n",
    "  train_feat.append(extract_feature(wav))\n",
    "  train_label.append(get_label(wav))"
   ]
  },
  {
   "cell_type": "code",
   "execution_count": 7,
   "metadata": {},
   "outputs": [
    {
     "name": "stderr",
     "output_type": "stream",
     "text": [
      "  0%|          | 0/447 [00:00<?, ?it/s]"
     ]
    },
    {
     "name": "stderr",
     "output_type": "stream",
     "text": [
      "100%|██████████| 447/447 [00:38<00:00, 11.67it/s]\n"
     ]
    }
   ],
   "source": [
    "#Now we obtain the list of all files in the test_clean directory\n",
    "test_clean_files = glob(r'D:\\file_yyux\\UCLA\\24W-courses\\214A\\W24 ECE M214A Project\\project_data\\test_clean\\*.wav')\n",
    "\n",
    "#Similar to above, we sort the files\n",
    "test_clean_files.sort()\n",
    "\n",
    "test_clean_feat=[]\n",
    "test_clean_label=[]\n",
    "\n",
    "for wav in tqdm(test_clean_files):\n",
    "\n",
    "  test_clean_feat.append(extract_feature(wav))\n",
    "  test_clean_label.append(get_label(wav))"
   ]
  },
  {
   "cell_type": "code",
   "execution_count": 8,
   "metadata": {},
   "outputs": [
    {
     "name": "stderr",
     "output_type": "stream",
     "text": [
      "100%|██████████| 347/347 [00:36<00:00,  9.50it/s]\n"
     ]
    }
   ],
   "source": [
    "#Finally we obtain the list of all files in the test_noisy directory\n",
    "test_noisy_files = glob(r'D:\\file_yyux\\UCLA\\24W-courses\\214A\\W24 ECE M214A Project\\project_data\\test_noisy\\*.wav')\n",
    "\n",
    "#Similar to above, we sort the files\n",
    "test_noisy_files.sort()\n",
    "\n",
    "test_noisy_feat=[]\n",
    "test_noisy_label=[]\n",
    "\n",
    "for wav in tqdm(test_noisy_files):\n",
    "\n",
    "  test_noisy_feat.append(extract_feature(wav))\n",
    "  test_noisy_label.append(get_label(wav))"
   ]
  },
  {
   "cell_type": "code",
   "execution_count": 17,
   "metadata": {},
   "outputs": [
    {
     "name": "stdout",
     "output_type": "stream",
     "text": [
      "^C\n",
      "\n",
      "Note: you may need to restart the kernel to use updated packages.\n",
      "\n",
      "Note: you may need to restart the kernel to use updated packages.\n"
     ]
    },
    {
     "name": "stderr",
     "output_type": "stream",
     "text": [
      "\n",
      "EnvironmentNameNotFound: Could not find conda environment: myenv\n",
      "You can list all discoverable environments with `conda info --envs`.\n",
      "\n",
      "\n"
     ]
    },
    {
     "name": "stdout",
     "output_type": "stream",
     "text": [
      "Requirement already satisfied: shap in c:\\users\\yyxyy\\appdata\\roaming\\python\\python39\\site-packages (0.45.0)\n",
      "Requirement already satisfied: numpy in c:\\users\\yyxyy\\appdata\\roaming\\python\\python39\\site-packages (from shap) (1.21.6)\n",
      "Requirement already satisfied: cloudpickle in d:\\anaconda3\\lib\\site-packages (from shap) (2.0.0)\n",
      "Requirement already satisfied: scikit-learn in d:\\anaconda3\\lib\\site-packages (from shap) (1.0.2)\n",
      "Requirement already satisfied: scipy in c:\\users\\yyxyy\\appdata\\roaming\\python\\python39\\site-packages (from shap) (1.11.4)\n",
      "Requirement already satisfied: pandas in d:\\anaconda3\\lib\\site-packages (from shap) (1.4.4)\n",
      "Requirement already satisfied: packaging>20.9 in d:\\anaconda3\\lib\\site-packages (from shap) (21.3)\n",
      "Requirement already satisfied: slicer==0.0.7 in d:\\anaconda3\\lib\\site-packages (from shap) (0.0.7)\n",
      "Requirement already satisfied: numba in d:\\anaconda3\\lib\\site-packages (from shap) (0.55.1)\n",
      "Requirement already satisfied: tqdm>=4.27.0 in d:\\anaconda3\\lib\\site-packages (from shap) (4.64.1)\n",
      "Requirement already satisfied: pyparsing!=3.0.5,>=2.0.2 in d:\\anaconda3\\lib\\site-packages (from packaging>20.9->shap) (3.0.9)\n",
      "Requirement already satisfied: colorama in d:\\anaconda3\\lib\\site-packages (from tqdm>=4.27.0->shap) (0.4.5)\n",
      "Requirement already satisfied: llvmlite<0.39,>=0.38.0rc1 in d:\\anaconda3\\lib\\site-packages (from numba->shap) (0.38.0)\n",
      "Requirement already satisfied: setuptools in d:\\anaconda3\\lib\\site-packages (from numba->shap) (63.4.1)\n",
      "Requirement already satisfied: python-dateutil>=2.8.1 in d:\\anaconda3\\lib\\site-packages (from pandas->shap) (2.8.2)\n",
      "Requirement already satisfied: pytz>=2020.1 in d:\\anaconda3\\lib\\site-packages (from pandas->shap) (2022.1)\n",
      "Requirement already satisfied: joblib>=0.11 in d:\\anaconda3\\lib\\site-packages (from scikit-learn->shap) (1.1.0)\n",
      "Requirement already satisfied: threadpoolctl>=2.0.0 in d:\\anaconda3\\lib\\site-packages (from scikit-learn->shap) (2.2.0)\n",
      "Requirement already satisfied: six>=1.5 in d:\\anaconda3\\lib\\site-packages (from python-dateutil>=2.8.1->pandas->shap) (1.16.0)\n",
      "Note: you may need to restart the kernel to use updated packages.\n"
     ]
    }
   ],
   "source": [
    "# 使用conda创建新的虚拟环境\n",
    "%conda create -n myenv python=3.9\n",
    "%conda activate myenv\n",
    "\n",
    "# 在新的虚拟环境中安装所需的库\n",
    "%pip install shap"
   ]
  },
  {
   "cell_type": "code",
   "execution_count": 12,
   "metadata": {},
   "outputs": [
    {
     "name": "stdout",
     "output_type": "stream",
     "text": [
      "Collecting shap\n",
      "  Using cached shap-0.45.0-cp39-cp39-win_amd64.whl (453 kB)\n",
      "Requirement already satisfied: packaging>20.9 in d:\\anaconda3\\lib\\site-packages (from shap) (21.3)\n",
      "Requirement already satisfied: slicer==0.0.7 in d:\\anaconda3\\lib\\site-packages (from shap) (0.0.7)\n",
      "Requirement already satisfied: numba in d:\\anaconda3\\lib\\site-packages (from shap) (0.55.1)\n",
      "Requirement already satisfied: tqdm>=4.27.0 in d:\\anaconda3\\lib\\site-packages (from shap) (4.64.1)\n",
      "Requirement already satisfied: cloudpickle in d:\\anaconda3\\lib\\site-packages (from shap) (2.0.0)\n",
      "Requirement already satisfied: pandas in d:\\anaconda3\\lib\\site-packages (from shap) (1.4.4)\n",
      "Requirement already satisfied: scipy in d:\\anaconda3\\lib\\site-packages (from shap) (1.12.0)\n",
      "Requirement already satisfied: numpy in d:\\anaconda3\\lib\\site-packages (from shap) (1.26.4)\n",
      "Requirement already satisfied: scikit-learn in d:\\anaconda3\\lib\\site-packages (from shap) (1.0.2)\n",
      "Requirement already satisfied: pyparsing!=3.0.5,>=2.0.2 in d:\\anaconda3\\lib\\site-packages (from packaging>20.9->shap) (3.0.9)\n",
      "Requirement already satisfied: colorama in d:\\anaconda3\\lib\\site-packages (from tqdm>=4.27.0->shap) (0.4.5)\n",
      "Requirement already satisfied: llvmlite<0.39,>=0.38.0rc1 in d:\\anaconda3\\lib\\site-packages (from numba->shap) (0.38.0)\n",
      "Requirement already satisfied: setuptools in d:\\anaconda3\\lib\\site-packages (from numba->shap) (63.4.1)\n",
      "Collecting numpy\n",
      "  Using cached numpy-1.21.6-cp39-cp39-win_amd64.whl (14.0 MB)\n",
      "Requirement already satisfied: pytz>=2020.1 in d:\\anaconda3\\lib\\site-packages (from pandas->shap) (2022.1)\n",
      "Requirement already satisfied: python-dateutil>=2.8.1 in d:\\anaconda3\\lib\\site-packages (from pandas->shap) (2.8.2)\n",
      "Requirement already satisfied: joblib>=0.11 in d:\\anaconda3\\lib\\site-packages (from scikit-learn->shap) (1.1.0)\n",
      "Requirement already satisfied: threadpoolctl>=2.0.0 in d:\\anaconda3\\lib\\site-packages (from scikit-learn->shap) (2.2.0)\n",
      "Collecting scipy\n",
      "  Using cached scipy-1.11.4-cp39-cp39-win_amd64.whl (44.3 MB)\n",
      "Requirement already satisfied: six>=1.5 in d:\\anaconda3\\lib\\site-packages (from python-dateutil>=2.8.1->pandas->shap) (1.16.0)\n",
      "Installing collected packages: numpy, scipy, shap\n",
      "Successfully installed numpy-1.21.6 scipy-1.11.4 shap-0.45.0\n",
      "Note: you may need to restart the kernel to use updated packages.\n"
     ]
    },
    {
     "name": "stderr",
     "output_type": "stream",
     "text": [
      "  WARNING: The script f2py.exe is installed in 'C:\\Users\\yyxyy\\AppData\\Roaming\\Python\\Python39\\Scripts' which is not on PATH.\n",
      "  Consider adding this directory to PATH or, if you prefer to suppress this warning, use --no-warn-script-location.\n",
      "ERROR: pip's dependency resolver does not currently take into account all the packages that are installed. This behaviour is the source of the following dependency conflicts.\n",
      "daal4py 2021.6.0 requires daal==2021.4.0, which is not installed.\n",
      "torchvision 0.15.2 requires torch==2.0.1, but you have torch 2.2.1 which is incompatible.\n",
      "tensorboard 2.11.2 requires google-auth-oauthlib<0.5,>=0.4.1, but you have google-auth-oauthlib 1.0.0 which is incompatible.\n",
      "tensorboard 2.11.2 requires tensorboard-data-server<0.7.0,>=0.6.0, but you have tensorboard-data-server 0.7.0 which is incompatible.\n"
     ]
    }
   ],
   "source": [
    "%pip install --user shap"
   ]
  },
  {
   "cell_type": "code",
   "execution_count": 10,
   "metadata": {},
   "outputs": [
    {
     "name": "stdout",
     "output_type": "stream",
     "text": [
      "Collecting xgboost\n",
      "  Downloading xgboost-2.0.3-py3-none-win_amd64.whl (99.8 MB)\n",
      "     --------------------------------------- 99.8/99.8 MB 12.3 MB/s eta 0:00:00\n",
      "Requirement already satisfied: numpy in d:\\anaconda3\\lib\\site-packages (from xgboost) (1.21.6)\n",
      "Requirement already satisfied: scipy in d:\\anaconda3\\lib\\site-packages (from xgboost) (1.12.0)\n",
      "Collecting numpy\n",
      "  Using cached numpy-1.26.4-cp39-cp39-win_amd64.whl (15.8 MB)\n",
      "Installing collected packages: numpy, xgboost\n",
      "  Attempting uninstall: numpy\n",
      "    Found existing installation: numpy 1.21.6\n",
      "    Uninstalling numpy-1.21.6:\n",
      "      Successfully uninstalled numpy-1.21.6\n",
      "Successfully installed numpy-1.26.4 xgboost-2.0.3\n",
      "Note: you may need to restart the kernel to use updated packages.\n"
     ]
    },
    {
     "name": "stderr",
     "output_type": "stream",
     "text": [
      "ERROR: pip's dependency resolver does not currently take into account all the packages that are installed. This behaviour is the source of the following dependency conflicts.\n",
      "daal4py 2021.6.0 requires daal==2021.4.0, which is not installed.\n",
      "torchvision 0.15.2 requires torch==2.0.1, but you have torch 2.2.1 which is incompatible.\n",
      "tensorboard 2.11.2 requires google-auth-oauthlib<0.5,>=0.4.1, but you have google-auth-oauthlib 1.0.0 which is incompatible.\n",
      "tensorboard 2.11.2 requires tensorboard-data-server<0.7.0,>=0.6.0, but you have tensorboard-data-server 0.7.0 which is incompatible.\n",
      "numba 0.55.1 requires numpy<1.22,>=1.18, but you have numpy 1.26.4 which is incompatible.\n"
     ]
    }
   ],
   "source": [
    "%pip install xgboost"
   ]
  },
  {
   "cell_type": "code",
   "execution_count": 18,
   "metadata": {},
   "outputs": [
    {
     "ename": "ModuleNotFoundError",
     "evalue": "No module named 'shap'",
     "output_type": "error",
     "traceback": [
      "\u001b[1;31m---------------------------------------------------------------------------\u001b[0m",
      "\u001b[1;31mModuleNotFoundError\u001b[0m                       Traceback (most recent call last)",
      "\u001b[1;32m~\\AppData\\Local\\Temp\\ipykernel_18568\\3159923866.py\u001b[0m in \u001b[0;36m<module>\u001b[1;34m\u001b[0m\n\u001b[0;32m      1\u001b[0m \u001b[1;32mimport\u001b[0m \u001b[0mxgboost\u001b[0m\u001b[1;33m\u001b[0m\u001b[1;33m\u001b[0m\u001b[0m\n\u001b[0;32m      2\u001b[0m \u001b[1;32mimport\u001b[0m \u001b[0mnumpy\u001b[0m \u001b[1;32mas\u001b[0m \u001b[0mnp\u001b[0m\u001b[1;33m\u001b[0m\u001b[1;33m\u001b[0m\u001b[0m\n\u001b[1;32m----> 3\u001b[1;33m \u001b[1;32mimport\u001b[0m \u001b[0mshap\u001b[0m\u001b[1;33m\u001b[0m\u001b[1;33m\u001b[0m\u001b[0m\n\u001b[0m\u001b[0;32m      4\u001b[0m \u001b[1;32mimport\u001b[0m \u001b[0mpandas\u001b[0m \u001b[1;32mas\u001b[0m \u001b[0mpd\u001b[0m\u001b[1;33m\u001b[0m\u001b[1;33m\u001b[0m\u001b[0m\n\u001b[0;32m      5\u001b[0m \u001b[1;33m\u001b[0m\u001b[0m\n",
      "\u001b[1;31mModuleNotFoundError\u001b[0m: No module named 'shap'"
     ]
    }
   ],
   "source": [
    "import xgboost\n",
    "import numpy as np\n",
    "import shap\n",
    "import pandas as pd\n",
    "\n",
    "feat_names = ['gtcc_' + str(n) for n in range(len(train_feat[0]))]\n",
    "\n",
    "train_feat_df = pd.DataFrame(data=np.stack(train_feat), columns=feat_names)\n",
    "y_train=np.stack(train_label)\n",
    "\n",
    "\n",
    "test_clean_feat_df = pd.DataFrame(data=np.stack(test_clean_feat), columns=feat_names)\n",
    "y_test_clean=np.stack(test_clean_label)\n",
    "\n",
    "\n",
    "test_noisy_feat_df = pd.DataFrame(data=np.stack(test_noisy_feat), columns=feat_names)\n",
    "y_test_noisy=np.stack(test_noisy_label)\n",
    "\n",
    "\n",
    "#you could just pass in the matrix of features to xgboost\n",
    "#but it looks prettier in the shap explainer if you format it\n",
    "#as a dataframe.\n",
    "\n",
    "\n",
    "model = xgboost.XGBClassifier()\n",
    "model.fit(train_feat_df,y_train)\n",
    "\n",
    "print(\"Train Clean Acc =\", np.sum(y_train==model.predict(train_feat_df))/len(y_train))\n",
    "\n",
    "print(\"Test Clean Acc =\", np.sum(y_test_clean==model.predict(test_clean_feat_df))/len(y_test_clean))\n",
    "\n",
    "print(\"Test Noisy Acc =\", np.sum(y_test_noisy==model.predict(test_noisy_feat_df))/len(y_test_noisy))"
   ]
  }
 ],
 "metadata": {
  "kernelspec": {
   "display_name": "base",
   "language": "python",
   "name": "python3"
  },
  "language_info": {
   "codemirror_mode": {
    "name": "ipython",
    "version": 3
   },
   "file_extension": ".py",
   "mimetype": "text/x-python",
   "name": "python",
   "nbconvert_exporter": "python",
   "pygments_lexer": "ipython3",
   "version": "3.9.13"
  }
 },
 "nbformat": 4,
 "nbformat_minor": 2
}
